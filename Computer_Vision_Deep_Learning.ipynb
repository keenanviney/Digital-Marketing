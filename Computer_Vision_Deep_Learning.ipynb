{
 "cells": [
  {
   "cell_type": "code",
   "execution_count": 1,
   "metadata": {},
   "outputs": [
    {
     "name": "stderr",
     "output_type": "stream",
     "text": [
      "Using TensorFlow backend.\n"
     ]
    }
   ],
   "source": [
    "##---------------------------------------\n",
    "#  Creative Deep Learning Computer Vision\n",
    "##---------------------------------------\n",
    "\n",
    "## Load Packages\n",
    "\n",
    "from keras.preprocessing import image\n",
    "from keras.preprocessing.image import ImageDataGenerator\n",
    "from keras import layers\n",
    "from keras import models\n",
    "from keras import optimizers\n",
    "import matplotlib.pyplot as plt\n",
    "import pandas as pd\n",
    "import numpy as np\n",
    "import os\n",
    "\n",
    "os.environ['KMP_DUPLICATE_LIB_OK']='True'"
   ]
  },
  {
   "cell_type": "code",
   "execution_count": 2,
   "metadata": {},
   "outputs": [
    {
     "data": {
      "text/html": [
       "<div>\n",
       "<style scoped>\n",
       "    .dataframe tbody tr th:only-of-type {\n",
       "        vertical-align: middle;\n",
       "    }\n",
       "\n",
       "    .dataframe tbody tr th {\n",
       "        vertical-align: top;\n",
       "    }\n",
       "\n",
       "    .dataframe thead th {\n",
       "        text-align: right;\n",
       "    }\n",
       "</style>\n",
       "<table border=\"1\" class=\"dataframe\">\n",
       "  <thead>\n",
       "    <tr style=\"text-align: right;\">\n",
       "      <th></th>\n",
       "      <th>Unnamed: 0</th>\n",
       "      <th>File_Name</th>\n",
       "      <th>CID</th>\n",
       "      <th>CID_Join</th>\n",
       "      <th>Funnel</th>\n",
       "      <th>CTR</th>\n",
       "      <th>BFER</th>\n",
       "      <th>CVR</th>\n",
       "      <th>UF_CTR</th>\n",
       "      <th>MF_BFE</th>\n",
       "      <th>LF_CVR</th>\n",
       "      <th>Target</th>\n",
       "      <th>File_Path</th>\n",
       "      <th>Label</th>\n",
       "      <th>File_Path_Abs</th>\n",
       "    </tr>\n",
       "  </thead>\n",
       "  <tbody>\n",
       "    <tr>\n",
       "      <th>0</th>\n",
       "      <td>1</td>\n",
       "      <td>I_ADD_DTN_001_HTM_CRS_300x250_S_N_EN_NA_EG-OTT...</td>\n",
       "      <td>NFLA001</td>\n",
       "      <td>NFLA001</td>\n",
       "      <td>Mid-Funnel</td>\n",
       "      <td>0.0005</td>\n",
       "      <td>0.11</td>\n",
       "      <td>0.02</td>\n",
       "      <td>-0.094486</td>\n",
       "      <td>-0.050285</td>\n",
       "      <td>0.876422</td>\n",
       "      <td>-0.050285</td>\n",
       "      <td>~/Desktop/Offline Images/Training_Set/I_ADD_DT...</td>\n",
       "      <td>Above</td>\n",
       "      <td>/Users/keenanv/Desktop/Offline Images/Training...</td>\n",
       "    </tr>\n",
       "    <tr>\n",
       "      <th>1</th>\n",
       "      <td>6</td>\n",
       "      <td>I_ADD_DTN_001_STB_CRS_300x250_S_N_EN_NA_EG-OTT...</td>\n",
       "      <td>NFLA001</td>\n",
       "      <td>NFLA001</td>\n",
       "      <td>Mid-Funnel</td>\n",
       "      <td>0.0005</td>\n",
       "      <td>0.11</td>\n",
       "      <td>0.02</td>\n",
       "      <td>-0.094486</td>\n",
       "      <td>-0.050285</td>\n",
       "      <td>0.876422</td>\n",
       "      <td>-0.050285</td>\n",
       "      <td>~/Desktop/Offline Images/Training_Set/I_ADD_DT...</td>\n",
       "      <td>Above</td>\n",
       "      <td>/Users/keenanv/Desktop/Offline Images/Training...</td>\n",
       "    </tr>\n",
       "    <tr>\n",
       "      <th>2</th>\n",
       "      <td>12</td>\n",
       "      <td>I_ADD_NFL_001_HTM_CRS_300x250_S_EN_NA_EG-OFFIN...</td>\n",
       "      <td>NFLEG23</td>\n",
       "      <td>NFLEG23</td>\n",
       "      <td>Upper Funnel</td>\n",
       "      <td>0.0011</td>\n",
       "      <td>0.03</td>\n",
       "      <td>0.00</td>\n",
       "      <td>1.118717</td>\n",
       "      <td>-0.818921</td>\n",
       "      <td>-0.876422</td>\n",
       "      <td>1.118717</td>\n",
       "      <td>~/Desktop/Offline Images/Training_Set/I_ADD_NF...</td>\n",
       "      <td>Above</td>\n",
       "      <td>/Users/keenanv/Desktop/Offline Images/Training...</td>\n",
       "    </tr>\n",
       "    <tr>\n",
       "      <th>3</th>\n",
       "      <td>14</td>\n",
       "      <td>I_ADD_NFL_001_HTM_CRS_300x250_S_N_EN_NA_EG-VID...</td>\n",
       "      <td>NFL02EG</td>\n",
       "      <td>NFL02EG</td>\n",
       "      <td>Lower Funnel</td>\n",
       "      <td>0.0004</td>\n",
       "      <td>0.10</td>\n",
       "      <td>0.01</td>\n",
       "      <td>-0.296687</td>\n",
       "      <td>-0.146364</td>\n",
       "      <td>0.000000</td>\n",
       "      <td>0.000000</td>\n",
       "      <td>~/Desktop/Offline Images/Training_Set/I_ADD_NF...</td>\n",
       "      <td>Above</td>\n",
       "      <td>/Users/keenanv/Desktop/Offline Images/Training...</td>\n",
       "    </tr>\n",
       "    <tr>\n",
       "      <th>4</th>\n",
       "      <td>15</td>\n",
       "      <td>I_ADD_NFL_001_HTM_CRS_300x250_S_N_EN_NA_EG-VID...</td>\n",
       "      <td>NFL03EG</td>\n",
       "      <td>NFL03EG</td>\n",
       "      <td>None</td>\n",
       "      <td>0.0000</td>\n",
       "      <td>0.00</td>\n",
       "      <td>0.00</td>\n",
       "      <td>-1.105489</td>\n",
       "      <td>-1.107160</td>\n",
       "      <td>-0.876422</td>\n",
       "      <td>0.000000</td>\n",
       "      <td>~/Desktop/Offline Images/Training_Set/I_ADD_NF...</td>\n",
       "      <td>Above</td>\n",
       "      <td>/Users/keenanv/Desktop/Offline Images/Training...</td>\n",
       "    </tr>\n",
       "  </tbody>\n",
       "</table>\n",
       "</div>"
      ],
      "text/plain": [
       "   Unnamed: 0                                          File_Name      CID  \\\n",
       "0           1  I_ADD_DTN_001_HTM_CRS_300x250_S_N_EN_NA_EG-OTT...  NFLA001   \n",
       "1           6  I_ADD_DTN_001_STB_CRS_300x250_S_N_EN_NA_EG-OTT...  NFLA001   \n",
       "2          12  I_ADD_NFL_001_HTM_CRS_300x250_S_EN_NA_EG-OFFIN...  NFLEG23   \n",
       "3          14  I_ADD_NFL_001_HTM_CRS_300x250_S_N_EN_NA_EG-VID...  NFL02EG   \n",
       "4          15  I_ADD_NFL_001_HTM_CRS_300x250_S_N_EN_NA_EG-VID...  NFL03EG   \n",
       "\n",
       "  CID_Join        Funnel     CTR  BFER   CVR    UF_CTR    MF_BFE    LF_CVR  \\\n",
       "0  NFLA001    Mid-Funnel  0.0005  0.11  0.02 -0.094486 -0.050285  0.876422   \n",
       "1  NFLA001    Mid-Funnel  0.0005  0.11  0.02 -0.094486 -0.050285  0.876422   \n",
       "2  NFLEG23  Upper Funnel  0.0011  0.03  0.00  1.118717 -0.818921 -0.876422   \n",
       "3  NFL02EG  Lower Funnel  0.0004  0.10  0.01 -0.296687 -0.146364  0.000000   \n",
       "4  NFL03EG          None  0.0000  0.00  0.00 -1.105489 -1.107160 -0.876422   \n",
       "\n",
       "     Target                                          File_Path  Label  \\\n",
       "0 -0.050285  ~/Desktop/Offline Images/Training_Set/I_ADD_DT...  Above   \n",
       "1 -0.050285  ~/Desktop/Offline Images/Training_Set/I_ADD_DT...  Above   \n",
       "2  1.118717  ~/Desktop/Offline Images/Training_Set/I_ADD_NF...  Above   \n",
       "3  0.000000  ~/Desktop/Offline Images/Training_Set/I_ADD_NF...  Above   \n",
       "4  0.000000  ~/Desktop/Offline Images/Training_Set/I_ADD_NF...  Above   \n",
       "\n",
       "                                       File_Path_Abs  \n",
       "0  /Users/keenanv/Desktop/Offline Images/Training...  \n",
       "1  /Users/keenanv/Desktop/Offline Images/Training...  \n",
       "2  /Users/keenanv/Desktop/Offline Images/Training...  \n",
       "3  /Users/keenanv/Desktop/Offline Images/Training...  \n",
       "4  /Users/keenanv/Desktop/Offline Images/Training...  "
      ]
     },
     "execution_count": 2,
     "metadata": {},
     "output_type": "execute_result"
    }
   ],
   "source": [
    "training_df = pd.read_csv(\"~/Box/Keenan.Viney/Desktop Backup/AT&T/Skunkworks/Computer_Vision/Training_Set_Dataframe.csv\")\n",
    "\n",
    "training_df.head()"
   ]
  },
  {
   "cell_type": "code",
   "execution_count": 3,
   "metadata": {},
   "outputs": [
    {
     "data": {
      "text/html": [
       "<div>\n",
       "<style scoped>\n",
       "    .dataframe tbody tr th:only-of-type {\n",
       "        vertical-align: middle;\n",
       "    }\n",
       "\n",
       "    .dataframe tbody tr th {\n",
       "        vertical-align: top;\n",
       "    }\n",
       "\n",
       "    .dataframe thead th {\n",
       "        text-align: right;\n",
       "    }\n",
       "</style>\n",
       "<table border=\"1\" class=\"dataframe\">\n",
       "  <thead>\n",
       "    <tr style=\"text-align: right;\">\n",
       "      <th></th>\n",
       "      <th>Unnamed: 0</th>\n",
       "      <th>File_Name</th>\n",
       "      <th>CID</th>\n",
       "      <th>CID_Join</th>\n",
       "      <th>Funnel</th>\n",
       "      <th>CTR</th>\n",
       "      <th>BFER</th>\n",
       "      <th>CVR</th>\n",
       "      <th>UF_CTR</th>\n",
       "      <th>MF_BFE</th>\n",
       "      <th>LF_CVR</th>\n",
       "      <th>Target</th>\n",
       "      <th>File_Path</th>\n",
       "      <th>Label</th>\n",
       "      <th>File_Path_Abs</th>\n",
       "    </tr>\n",
       "  </thead>\n",
       "  <tbody>\n",
       "    <tr>\n",
       "      <th>0</th>\n",
       "      <td>1</td>\n",
       "      <td>I_AEC_ECM_001_STB_DTP_300x250_S_N_EN_NA_EG-PST...</td>\n",
       "      <td>AARP004</td>\n",
       "      <td>AARP005</td>\n",
       "      <td>None</td>\n",
       "      <td>0.0000</td>\n",
       "      <td>0.00</td>\n",
       "      <td>0.00</td>\n",
       "      <td>-1.105489</td>\n",
       "      <td>-1.107160</td>\n",
       "      <td>-0.876422</td>\n",
       "      <td>0.000000</td>\n",
       "      <td>~/Desktop/Offline Images/Validation_Set/I_AEC_...</td>\n",
       "      <td>Above</td>\n",
       "      <td>/Users/keenanv/Desktop/Offline Images/Validati...</td>\n",
       "    </tr>\n",
       "    <tr>\n",
       "      <th>1</th>\n",
       "      <td>2</td>\n",
       "      <td>I_AEC_ECM_001_STB_DTP_300x250_S_N_EN_NA_EG-PST...</td>\n",
       "      <td>AARP004</td>\n",
       "      <td>AARP004</td>\n",
       "      <td>None</td>\n",
       "      <td>0.0000</td>\n",
       "      <td>0.00</td>\n",
       "      <td>0.00</td>\n",
       "      <td>-1.105489</td>\n",
       "      <td>-1.107160</td>\n",
       "      <td>-0.876422</td>\n",
       "      <td>0.000000</td>\n",
       "      <td>~/Desktop/Offline Images/Validation_Set/I_AEC_...</td>\n",
       "      <td>Above</td>\n",
       "      <td>/Users/keenanv/Desktop/Offline Images/Validati...</td>\n",
       "    </tr>\n",
       "    <tr>\n",
       "      <th>2</th>\n",
       "      <td>3</td>\n",
       "      <td>I_AEC_ECM_001_STB_DTP_300x250_S_N_EN_NA_EG-PST...</td>\n",
       "      <td>AARP005</td>\n",
       "      <td>AARP005</td>\n",
       "      <td>None</td>\n",
       "      <td>0.0000</td>\n",
       "      <td>0.00</td>\n",
       "      <td>0.00</td>\n",
       "      <td>-1.105489</td>\n",
       "      <td>-1.107160</td>\n",
       "      <td>-0.876422</td>\n",
       "      <td>0.000000</td>\n",
       "      <td>~/Desktop/Offline Images/Validation_Set/I_AEC_...</td>\n",
       "      <td>Above</td>\n",
       "      <td>/Users/keenanv/Desktop/Offline Images/Validati...</td>\n",
       "    </tr>\n",
       "    <tr>\n",
       "      <th>3</th>\n",
       "      <td>4</td>\n",
       "      <td>I_AEC_ECM_001_STB_DTP_300x250_S_N_EN_NA_EG-PST...</td>\n",
       "      <td>WIN003</td>\n",
       "      <td>WIN003</td>\n",
       "      <td>None</td>\n",
       "      <td>0.0000</td>\n",
       "      <td>0.00</td>\n",
       "      <td>0.00</td>\n",
       "      <td>-1.105489</td>\n",
       "      <td>-1.107160</td>\n",
       "      <td>-0.876422</td>\n",
       "      <td>0.000000</td>\n",
       "      <td>~/Desktop/Offline Images/Validation_Set/I_AEC_...</td>\n",
       "      <td>Above</td>\n",
       "      <td>/Users/keenanv/Desktop/Offline Images/Validati...</td>\n",
       "    </tr>\n",
       "    <tr>\n",
       "      <th>4</th>\n",
       "      <td>5</td>\n",
       "      <td>I_AEC_ECM_001_STB_DTP_300x250_S_N_EN_NA_EG-PST...</td>\n",
       "      <td>WIN0062</td>\n",
       "      <td>WIN0062</td>\n",
       "      <td>Mid-Funnel</td>\n",
       "      <td>0.0004</td>\n",
       "      <td>0.22</td>\n",
       "      <td>0.02</td>\n",
       "      <td>-0.296687</td>\n",
       "      <td>1.006591</td>\n",
       "      <td>0.876422</td>\n",
       "      <td>1.006591</td>\n",
       "      <td>~/Desktop/Offline Images/Validation_Set/I_AEC_...</td>\n",
       "      <td>Above</td>\n",
       "      <td>/Users/keenanv/Desktop/Offline Images/Validati...</td>\n",
       "    </tr>\n",
       "  </tbody>\n",
       "</table>\n",
       "</div>"
      ],
      "text/plain": [
       "   Unnamed: 0                                          File_Name      CID  \\\n",
       "0           1  I_AEC_ECM_001_STB_DTP_300x250_S_N_EN_NA_EG-PST...  AARP004   \n",
       "1           2  I_AEC_ECM_001_STB_DTP_300x250_S_N_EN_NA_EG-PST...  AARP004   \n",
       "2           3  I_AEC_ECM_001_STB_DTP_300x250_S_N_EN_NA_EG-PST...  AARP005   \n",
       "3           4  I_AEC_ECM_001_STB_DTP_300x250_S_N_EN_NA_EG-PST...   WIN003   \n",
       "4           5  I_AEC_ECM_001_STB_DTP_300x250_S_N_EN_NA_EG-PST...  WIN0062   \n",
       "\n",
       "  CID_Join      Funnel     CTR  BFER   CVR    UF_CTR    MF_BFE    LF_CVR  \\\n",
       "0  AARP005        None  0.0000  0.00  0.00 -1.105489 -1.107160 -0.876422   \n",
       "1  AARP004        None  0.0000  0.00  0.00 -1.105489 -1.107160 -0.876422   \n",
       "2  AARP005        None  0.0000  0.00  0.00 -1.105489 -1.107160 -0.876422   \n",
       "3   WIN003        None  0.0000  0.00  0.00 -1.105489 -1.107160 -0.876422   \n",
       "4  WIN0062  Mid-Funnel  0.0004  0.22  0.02 -0.296687  1.006591  0.876422   \n",
       "\n",
       "     Target                                          File_Path  Label  \\\n",
       "0  0.000000  ~/Desktop/Offline Images/Validation_Set/I_AEC_...  Above   \n",
       "1  0.000000  ~/Desktop/Offline Images/Validation_Set/I_AEC_...  Above   \n",
       "2  0.000000  ~/Desktop/Offline Images/Validation_Set/I_AEC_...  Above   \n",
       "3  0.000000  ~/Desktop/Offline Images/Validation_Set/I_AEC_...  Above   \n",
       "4  1.006591  ~/Desktop/Offline Images/Validation_Set/I_AEC_...  Above   \n",
       "\n",
       "                                       File_Path_Abs  \n",
       "0  /Users/keenanv/Desktop/Offline Images/Validati...  \n",
       "1  /Users/keenanv/Desktop/Offline Images/Validati...  \n",
       "2  /Users/keenanv/Desktop/Offline Images/Validati...  \n",
       "3  /Users/keenanv/Desktop/Offline Images/Validati...  \n",
       "4  /Users/keenanv/Desktop/Offline Images/Validati...  "
      ]
     },
     "execution_count": 3,
     "metadata": {},
     "output_type": "execute_result"
    }
   ],
   "source": [
    "validation_df = pd.read_csv(\"~/Box/Keenan.Viney/Desktop Backup/AT&T/Skunkworks/Computer_Vision/Validation_Set_Dataframe.csv\")\n",
    "\n",
    "validation_df.head()"
   ]
  },
  {
   "cell_type": "code",
   "execution_count": 4,
   "metadata": {},
   "outputs": [],
   "source": [
    "## Import Data\n",
    "\n",
    "train_datagen = ImageDataGenerator(rescale = 1./255,\n",
    "                                   rotation_range = 40,\n",
    "                                   width_shift_range = 0.2,\n",
    "                                   height_shift_range = 0.2,\n",
    "                                   shear_range = 0.2)\n",
    "\n",
    "test_datagen = ImageDataGenerator(rescale = 1./255)\n",
    "\n"
   ]
  },
  {
   "cell_type": "code",
   "execution_count": 5,
   "metadata": {},
   "outputs": [
    {
     "name": "stdout",
     "output_type": "stream",
     "text": [
      "Found 77 images belonging to 2 classes.\n",
      "Found 30 images belonging to 2 classes.\n"
     ]
    }
   ],
   "source": [
    "train_generator = train_datagen.flow_from_directory(directory = \"/Users/keenanv/Desktop/Offline_Images/Training_Set/\",\n",
    "                                                    target_size = (250, 300),\n",
    "                                                    classes = (\"Above\", \"Below\"),\n",
    "                                                    class_mode = \"binary\", \n",
    "                                                    batch_size = 3)\n",
    "\n",
    "validation_generator = test_datagen.flow_from_directory(directory = \"/Users/keenanv/Desktop/Offline_Images/Validation_Set/\",\n",
    "                                                        target_size = (250, 300),\n",
    "                                                        classes = (\"Above\", \"Below\"),\n",
    "                                                        class_mode = \"binary\",\n",
    "                                                        batch_size = 3)\n",
    "\n",
    "\n"
   ]
  },
  {
   "cell_type": "code",
   "execution_count": 6,
   "metadata": {},
   "outputs": [
    {
     "name": "stdout",
     "output_type": "stream",
     "text": [
      "data batch shape: (3, 250, 300, 3)\n",
      "labels batch shape: (3,)\n"
     ]
    }
   ],
   "source": [
    "for data_batch, labels_batch in train_generator:\n",
    "   print(\"data batch shape:\", data_batch.shape)\n",
    "   print(\"labels batch shape:\", labels_batch.shape)\n",
    "   break"
   ]
  },
  {
   "cell_type": "code",
   "execution_count": 11,
   "metadata": {},
   "outputs": [
    {
     "name": "stdout",
     "output_type": "stream",
     "text": [
      "_________________________________________________________________\n",
      "Layer (type)                 Output Shape              Param #   \n",
      "=================================================================\n",
      "conv2d_5 (Conv2D)            (None, 248, 298, 8)       224       \n",
      "_________________________________________________________________\n",
      "max_pooling2d_5 (MaxPooling2 (None, 124, 149, 8)       0         \n",
      "_________________________________________________________________\n",
      "conv2d_6 (Conv2D)            (None, 122, 147, 8)       584       \n",
      "_________________________________________________________________\n",
      "max_pooling2d_6 (MaxPooling2 (None, 61, 73, 8)         0         \n",
      "_________________________________________________________________\n",
      "conv2d_7 (Conv2D)            (None, 59, 71, 16)        1168      \n",
      "_________________________________________________________________\n",
      "max_pooling2d_7 (MaxPooling2 (None, 29, 35, 16)        0         \n",
      "_________________________________________________________________\n",
      "conv2d_8 (Conv2D)            (None, 27, 33, 32)        4640      \n",
      "_________________________________________________________________\n",
      "max_pooling2d_8 (MaxPooling2 (None, 13, 16, 32)        0         \n",
      "_________________________________________________________________\n",
      "flatten_2 (Flatten)          (None, 6656)              0         \n",
      "_________________________________________________________________\n",
      "dropout_2 (Dropout)          (None, 6656)              0         \n",
      "_________________________________________________________________\n",
      "dense_3 (Dense)              (None, 665)               4426905   \n",
      "_________________________________________________________________\n",
      "dense_4 (Dense)              (None, 1)                 666       \n",
      "=================================================================\n",
      "Total params: 4,434,187\n",
      "Trainable params: 4,434,187\n",
      "Non-trainable params: 0\n",
      "_________________________________________________________________\n"
     ]
    }
   ],
   "source": [
    "model = models.Sequential()\n",
    "model.add(layers.Conv2D(8, (3, 3), activation = \"relu\", input_shape = (250, 300, 3)))\n",
    "model.add(layers.MaxPooling2D((2, 2)))\n",
    "model.add(layers.Conv2D(8, (3, 3), activation = \"relu\"))\n",
    "model.add(layers.MaxPooling2D((2, 2)))\n",
    "model.add(layers.Conv2D(16, (3, 3), activation = \"relu\"))\n",
    "model.add(layers.MaxPooling2D((2, 2)))\n",
    "model.add(layers.Conv2D(32, (3, 3), activation = \"relu\"))\n",
    "model.add(layers.MaxPooling2D((2, 2)))\n",
    "model.add(layers.Flatten())\n",
    "model.add(layers.Dropout(0.5))\n",
    "model.add(layers.Dense(665, activation = \"relu\"))\n",
    "model.add(layers.Dense(1, activation = \"sigmoid\"))\n",
    "\n",
    "model.summary()"
   ]
  },
  {
   "cell_type": "code",
   "execution_count": 12,
   "metadata": {},
   "outputs": [],
   "source": [
    "model.compile(loss = \"binary_crossentropy\",\n",
    "  optimizer = optimizers.RMSprop(lr = 1e-6),\n",
    "  metrics = [\"acc\"])"
   ]
  },
  {
   "cell_type": "code",
   "execution_count": 15,
   "metadata": {},
   "outputs": [
    {
     "name": "stdout",
     "output_type": "stream",
     "text": [
      "Epoch 1/3\n",
      "11/11 [==============================] - 1s 95ms/step - loss: 0.6932 - acc: 0.5152 - val_loss: 0.6833 - val_acc: 0.6667\n",
      "Epoch 2/3\n",
      "11/11 [==============================] - 1s 72ms/step - loss: 0.6872 - acc: 0.5455 - val_loss: 0.6880 - val_acc: 0.4000\n",
      "Epoch 3/3\n",
      "11/11 [==============================] - 1s 83ms/step - loss: 0.7030 - acc: 0.4861 - val_loss: 0.6853 - val_acc: 0.5333\n"
     ]
    }
   ],
   "source": [
    "history = model.fit_generator(\n",
    "  train_generator,\n",
    "  steps_per_epoch = 11,\n",
    "  epochs = 3,\n",
    "  validation_data = validation_generator,\n",
    "  validation_steps = 5\n",
    ")"
   ]
  },
  {
   "cell_type": "code",
   "execution_count": 16,
   "metadata": {},
   "outputs": [
    {
     "data": {
      "image/png": "[encoded data removed]",
      "text/plain": [
       "<Figure size 432x288 with 1 Axes>"
      ]
     },
     "metadata": {
      "needs_background": "light"
     },
     "output_type": "display_data"
    },
    {
     "data": {
      "image/png": "[encoded data removed]",
      "text/plain": [
       "<Figure size 432x288 with 1 Axes>"
      ]
     },
     "metadata": {
      "needs_background": "light"
     },
     "output_type": "display_data"
    }
   ],
   "source": [
    "acc = history.history['acc']\n",
    "val_acc = history.history['val_acc']\n",
    "loss = history.history['loss']\n",
    "val_loss = history.history['val_loss']\n",
    "epochs = range(1, len(acc) + 1)\n",
    "plt.plot(epochs, acc, 'bo', label='Training acc')\n",
    "plt.plot(epochs, val_acc, 'b', label='Validation acc')\n",
    "plt.title('Training and validation accuracy')\n",
    "plt.legend()\n",
    "plt.figure()\n",
    "plt.plot(epochs, loss, 'bo', label='Training loss')\n",
    "plt.plot(epochs, val_loss, 'b', label='Validation loss')\n",
    "plt.title('Training and validation loss')\n",
    "plt.legend()\n",
    "plt.show()"
   ]
  },
  {
   "cell_type": "code",
   "execution_count": 17,
   "metadata": {},
   "outputs": [],
   "source": [
    "model.save(\"/Users/keenanv/Desktop/Offline_Images/POC_3epoch_R2.h5\")"
   ]
  },
  {
   "cell_type": "code",
   "execution_count": 18,
   "metadata": {},
   "outputs": [
    {
     "name": "stdout",
     "output_type": "stream",
     "text": [
      "[[7.9098056e-05]]\n"
     ]
    }
   ],
   "source": [
    "# Predict a new image\n",
    "\n",
    "test_image_path = \"/Users/keenanv/Desktop/Offline_Images/test_frame.jpg\"\n",
    "\n",
    "test_image = image.load_img(test_image_path, target_size = (250, 300)) \n",
    "test_image = image.img_to_array(test_image)\n",
    "test_image = np.expand_dims(test_image, axis = 0)\n",
    "\n",
    "#predict the result\n",
    "result = model.predict(test_image)\n",
    "\n",
    "print(result)"
   ]
  },
  {
   "cell_type": "code",
   "execution_count": null,
   "metadata": {},
   "outputs": [],
   "source": []
  }
 ],
 "metadata": {
  "kernelspec": {
   "display_name": "Python 3",
   "language": "python",
   "name": "python3"
  },
  "language_info": {
   "codemirror_mode": {
    "name": "ipython",
    "version": 3
   },
   "file_extension": ".py",
   "mimetype": "text/x-python",
   "name": "python",
   "nbconvert_exporter": "python",
   "pygments_lexer": "ipython3",
   "version": "3.7.3"
  }
 },
 "nbformat": 4,
 "nbformat_minor": 2
}
